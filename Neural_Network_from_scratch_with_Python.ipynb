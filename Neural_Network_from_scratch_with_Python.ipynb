{
  "nbformat": 4,
  "nbformat_minor": 0,
  "metadata": {
    "kernelspec": {
      "display_name": "dl",
      "language": "python",
      "name": "myvenv"
    },
    "language_info": {
      "codemirror_mode": {
        "name": "ipython",
        "version": 3
      },
      "file_extension": ".py",
      "mimetype": "text/x-python",
      "name": "python",
      "nbconvert_exporter": "python",
      "pygments_lexer": "ipython3",
      "version": "3.8.5"
    },
    "colab": {
      "name": "Neural_Network_from_scratch_with_Python.ipynb",
      "provenance": [],
      "collapsed_sections": [],
      "toc_visible": true,
      "include_colab_link": true
    }
  },
  "cells": [
    {
      "cell_type": "markdown",
      "metadata": {
        "id": "view-in-github",
        "colab_type": "text"
      },
      "source": [
        "<a href=\"https://colab.research.google.com/github/subminu/Neural-Network-from-scratch/blob/main/Neural_Network_from_scratch_with_Python.ipynb\" target=\"_parent\"><img src=\"https://colab.research.google.com/assets/colab-badge.svg\" alt=\"Open In Colab\"/></a>"
      ]
    },
    {
      "cell_type": "markdown",
      "metadata": {
        "id": "96W89qU1y3HV"
      },
      "source": [
        "# 3-layer Neural Network for Classification \n",
        "without the deep learning framework (only python)"
      ]
    },
    {
      "cell_type": "markdown",
      "metadata": {
        "id": "GH6DJD7ly3HW"
      },
      "source": [
        "## 0.  Import dependency package"
      ]
    },
    {
      "cell_type": "code",
      "metadata": {
        "id": "R1suCVXyy3HX"
      },
      "source": [
        "import numpy as np\n",
        "import gzip\n",
        "from matplotlib import pyplot as plt\n",
        "\n",
        "from torch.utils.tensorboard import SummaryWriter\n",
        "\n",
        "%matplotlib inline"
      ],
      "execution_count": null,
      "outputs": []
    },
    {
      "cell_type": "markdown",
      "metadata": {
        "id": "G06sbs4Ly3Hc"
      },
      "source": [
        "## 1. Load data"
      ]
    },
    {
      "cell_type": "code",
      "metadata": {
        "id": "xZlGPB61y3Hc"
      },
      "source": [
        "def extract_images(file):\n",
        "    with gzip.open(file, 'r') as f:\n",
        "        magic_number = int.from_bytes(f.read(4), 'big')\n",
        "        n_images = int.from_bytes(f.read(4), 'big')\n",
        "        n_rows = int.from_bytes(f.read(4), 'big')\n",
        "        n_cols = int.from_bytes(f.read(4), 'big')\n",
        "  \n",
        "        images = np.frombuffer(f.read(), dtype=np.uint8)\\\n",
        "            .reshape((n_images, n_rows, n_cols))\n",
        "        return images\n",
        "\n",
        "\n",
        "def extract_labels(file):\n",
        "    with gzip.open(file, 'r') as f:\n",
        "        magic_number = int.from_bytes(f.read(4), 'big')\n",
        "        n_targets = int.from_bytes(f.read(4), 'big')\n",
        "\n",
        "        labels = np.frombuffer(f.read(), dtype=np.uint8)\n",
        "        return labels"
      ],
      "execution_count": null,
      "outputs": []
    },
    {
      "cell_type": "code",
      "metadata": {
        "id": "SCI4qkdxy3Hg"
      },
      "source": [
        "X_t = extract_images(\"/content/train-images-idx3-ubyte.gz\")\n",
        "Y_t = extract_labels(\"/content/train-labels-idx1-ubyte.gz\")\n",
        "X_r = extract_images(\"/content/t10k-images-idx3-ubyte.gz\")\n",
        "Y_r = extract_labels(\"/content/t10k-labels-idx1-ubyte.gz\")\n",
        "\n",
        "X_t = X_t.reshape(-1,784)\n",
        "X_r = X_r.reshape(-1,784)\n",
        "\n",
        "# normalization\n",
        "X_t = X_t / 255\n",
        "X_r = X_r / 255"
      ],
      "execution_count": null,
      "outputs": []
    },
    {
      "cell_type": "markdown",
      "metadata": {
        "id": "C16rslnGy3Hm"
      },
      "source": [
        "## 2. Generate Neural Network\n",
        "\n",
        "### 2.0 Activation Function"
      ]
    },
    {
      "cell_type": "code",
      "metadata": {
        "id": "ynhR12MDy3Hn"
      },
      "source": [
        "class ReLU:\n",
        "    def prop(self, X):\n",
        "        return np.maximum(0, X)\n",
        "    \n",
        "    def derivative(self, X):\n",
        "        result = np.copy(X)\n",
        "        result[result >= 0] = 1\n",
        "        result[result < 0] = 0\n",
        "        return result\n",
        "\n",
        "class LeakyReLU:\n",
        "    def __init__(self, hyper=0.01):\n",
        "        self.hyper = hyper\n",
        "        \n",
        "    def prop(self, X):\n",
        "        return np.maximum(self.hyper*X, X)\n",
        "    \n",
        "    def derivative(self, X):\n",
        "        result = np.copy(X)\n",
        "        result[result >= 0] = 1\n",
        "        result[result < 0] = self.hyper\n",
        "        return result"
      ],
      "execution_count": null,
      "outputs": []
    },
    {
      "cell_type": "markdown",
      "metadata": {
        "id": "354eqxsby3Hq"
      },
      "source": [
        "### 2.1 Layer_Dense"
      ]
    },
    {
      "cell_type": "code",
      "metadata": {
        "id": "MgA8YW3uy3Hq"
      },
      "source": [
        "class Layer_dense:\n",
        "    def __init__(self, input_size, output_size, activation, output_layer=False):\n",
        "        # parameters\n",
        "        self.W = np.random.normal(size=(input_size, output_size))\n",
        "        self.b = np.random.normal(size=(1,output_size))\n",
        "\n",
        "        # parameters(derivative)\n",
        "        self.dW = None\n",
        "        self.db = None\n",
        "\n",
        "        # history\n",
        "        self.inputs = None\n",
        "        self.L = None\n",
        "\n",
        "        # activation\n",
        "        self.activation_func = activation()\n",
        "\n",
        "        # flag\n",
        "        self.output_layer = output_layer\n",
        "    \n",
        "    def prop(self, X):\n",
        "        self.inputs = X\n",
        "        self.L = np.dot(X, self.W) + self.b\n",
        "        self.outputs = self.activation_func.prop(self.L) \n",
        "        return self.outputs\n",
        "    \n",
        "    def backprop(self, dZ):\n",
        "        if self.output_layer:\n",
        "            dZ = self.activation_func.derivative(dZ)\n",
        "        else:\n",
        "            dZ = np.multiply(self.activation_func.derivative(self.L), dZ)\n",
        "        \n",
        "        self.dW = np.dot(self.inputs.T, dZ)\n",
        "        self.db = np.sum(dZ, axis=0, keepdims = True)\n",
        "\n",
        "        return np.dot(dZ, self.W.T)\n",
        "    \n",
        "    def update(self, learning_rate):\n",
        "        self.W -= learning_rate * self.dW\n",
        "        self.b -= learning_rate * self.db"
      ],
      "execution_count": null,
      "outputs": []
    },
    {
      "cell_type": "markdown",
      "metadata": {
        "id": "lTv2gUViy3Hu"
      },
      "source": [
        "### 2.2 Softmax"
      ]
    },
    {
      "cell_type": "code",
      "metadata": {
        "id": "GTbDHkTLy3Hv"
      },
      "source": [
        "class Softmax:\n",
        "    def __init__(self):\n",
        "        self.inputs = None\n",
        "    \n",
        "    def prop(self, X):\n",
        "        self.inputs = X\n",
        "        X -= np.max(X, axis=1, keepdims=True)\n",
        "        return np.exp(X)/np.sum(np.exp(X), axis=1, keepdims=True)\n",
        "    \n",
        "    def derivative(self, Y):\n",
        "        \"\"\"This function was used for derivative loss_func(softmax(Y_hat),Y)\"\"\"\n",
        "        result = self.prop(self.inputs)\n",
        "        result[np.arange(result.shape[0]),Y] -= 1\n",
        "        return result \n",
        "    \n",
        "    def _derivative(self, X):\n",
        "        \"\"\"This function was not used, just implementation of partial derivative\"\"\"\n",
        "        result = np.zeros((*X.shape,X.shape[-1]))\n",
        "        S = self.prop(X)\n",
        "        for k, V in enumerate(X):\n",
        "            for i,x1 in enumerate(*V):\n",
        "                for j,x2 in enumerate(*V):\n",
        "                    if i==j:\n",
        "                        result[k,i,j] = S[k,i] * (1 - S[k,j])\n",
        "                    else:\n",
        "                        result[k,i,j] = S[k,i] * S[k,j] * -1\n",
        "        return result"
      ],
      "execution_count": null,
      "outputs": []
    },
    {
      "cell_type": "markdown",
      "metadata": {
        "id": "rPTGyD5Yy3Hy"
      },
      "source": [
        "### 2.3 Multi-Class Cross entropy function"
      ]
    },
    {
      "cell_type": "code",
      "metadata": {
        "id": "o1HwRwjby3Hy"
      },
      "source": [
        "class Cross_entropy:\n",
        "    def prop(self, Y_hat, Y):\n",
        "        return np.sum(-1 * np.log(Y_hat[np.arange(Y_hat.shape[0]),Y] + 1e-7))\n",
        "    \n",
        "\n",
        "    def derivative(self, Y_hat, Y):\n",
        "        \"\"\"This function was not used, just implementation of derivative\"\"\"\n",
        "        result = np.zeros(Y_hat.shape)\n",
        "        result[range(Y_hat.shape[0]),Y] = -1 * (1/Y_hat[np.arange(Y_hat.shape[0]),Y])\n",
        "        return result"
      ],
      "execution_count": null,
      "outputs": []
    },
    {
      "cell_type": "markdown",
      "metadata": {
        "id": "ErT4cD8By3H1"
      },
      "source": [
        "### 2.4 Neural Network"
      ]
    },
    {
      "cell_type": "code",
      "metadata": {
        "id": "5CFv7rRjy3H2"
      },
      "source": [
        "class NN:\n",
        "    def __init__(self, X_t, Y_t, loss, learning_rate, batch_size, epoch):\n",
        "        np.random.seed(0)\n",
        "        self.X_t, self.Y_t, self.X_v, self.Y_v = self.split_data_to_vaild_and_training(X_t,Y_t)\n",
        "        \n",
        "        self.loss_func = loss()\n",
        "        self.learning_rate = learning_rate\n",
        "        self.batch_size = batch_size\n",
        "        self.epoch = epoch\n",
        "        \n",
        "        self.layers = []\n",
        "        self.inputs = []\n",
        "\n",
        "        self.history_t = []\n",
        "        self.history_v = []\n",
        "\n",
        "\n",
        "    def split_data_to_vaild_and_training(self,X,Y):\n",
        "        num = X.shape[0]\n",
        "        s = np.arange(num)\n",
        "        np.random.shuffle(s)\n",
        "        return X[s][:int(num*0.9)]\\\n",
        "        , Y[s][:int(num*0.9)]\\\n",
        "        , X[s][int(num*0.9):num+1]\\\n",
        "        , Y[s][int(num*0.9):num+1]\n",
        "\n",
        "    def add(self, layer):\n",
        "        self.layers.append(layer)\n",
        "    \n",
        "    def prop(self, X):\n",
        "        result = X\n",
        "        self.inputs = [X]\n",
        "\n",
        "        for i, layer in enumerate(self.layers):\n",
        "            result = layer.prop(result)\n",
        "            self.inputs.append(result)\n",
        "\n",
        "        return result\n",
        "    \n",
        "    def backprop(self, dZ):\n",
        "        for layer in reversed(self.layers):\n",
        "            dZ = layer.backprop(dZ)\n",
        "            layer.update(self.learning_rate)\n",
        "    \n",
        "    def fit(self, verbose=True):\n",
        "        for i in range(self.epoch):\n",
        "            for X,Y in self.batch_iter():\n",
        "                self.prop(X)\n",
        "                self.backprop(Y)\n",
        "            loss = self.get_loss(self.X_t,self.Y_t)\n",
        "            acc = self.get_acc(self.X_t, self.Y_t)\n",
        "            val_loss = self.get_loss(self.X_v, self.Y_v)\n",
        "            val_acc = self.get_acc(self.X_v, self.Y_v)\n",
        "            if verbose:\n",
        "                print(f\"[{i+1}/{self.epoch}] loss: {loss:.4f} acc: {acc:.4f} val_loss: {val_loss:.4f} val_acc: {val_acc:.4f}\")\n",
        "            self.history_t.append(loss)\n",
        "            self.history_v.append(val_loss)\n",
        "    \n",
        "    def batch_iter(self):\n",
        "        div = int(self.X_t.shape[0] / self.batch_size)\n",
        "        mod = self.X_t.shape[0] % self.batch_size\n",
        "        n = div\n",
        "        \n",
        "        for i in range(n):\n",
        "            if i == n - 1:\n",
        "                yield self.X_t[i*self.batch_size:(i+1)*self.batch_size+mod+1],\\\n",
        "                 self.Y_t[i*self.batch_size:(i+1)*self.batch_size+mod+1]\n",
        "            else:\n",
        "                yield self.X_t[i*self.batch_size:(i+1)*self.batch_size],\\\n",
        "                 self.Y_t[i*self.batch_size:(i+1)*self.batch_size]\n",
        "    \n",
        "    def predict(self, X):\n",
        "        return np.argmax(self.prop(X), axis=1)\n",
        "\n",
        "    def get_loss(self, X, Y):\n",
        "        return self.loss_func.prop(self.prop(X),Y) / X.shape[0]\n",
        "\n",
        "    def get_acc(self, X, Y):\n",
        "        return np.sum([1 for correct in np.equal(self.predict(X),Y) if correct]) / X.shape[0] * 100\n",
        "\n",
        "    def show_loss_graph(self):\n",
        "        plt.plot(range(self.epoch), self.history_t, label=\"train\")\n",
        "        plt.plot(range(self.epoch), self.history_v, label=\"vaildation\")\n",
        "        plt.title(\"epoch-loss graph\")\n",
        "        plt.legend([\"train\", \"validation\"])\n",
        "        plt.xlabel(\"epochs\")\n",
        "        plt.ylabel(\"loss\")\n",
        "        plt.show()\n",
        "    \n",
        "    def show_top_3_with_probability(self, X):\n",
        "        Y_hat = self.predict(X)\n",
        "        Y_softmax = np.max(self.inputs[-1], axis=1)\n",
        "        Y_packed = sorted(list(zip(Y_hat, Y_softmax, X)), key=lambda x: x[1], reverse=True)\n",
        "        datas = [[] for _ in range(10)]\n",
        "        for obj in Y_packed:\n",
        "            if len(datas[obj[0]]) < 3:\n",
        "                datas[obj[0]].append((obj[1], obj[2].reshape(28,28)))\n",
        "            if np.all(np.equal(3, [len(c) for c in datas])):\n",
        "                break\n",
        "        \n",
        "        f = plt.figure(figsize=(8,8))\n",
        "        for i, class_data in enumerate(datas):\n",
        "            for j, data in enumerate(class_data,1):\n",
        "                subplot = f.add_subplot(10, 3, (i*3)+j)\n",
        "                subplot.imshow(data[1], cmap=plt.cm.gray_r)\n",
        "                subplot.set_title(round(data[0],2))\n",
        "                subplot.set_axis_off()\n",
        "        plt.tight_layout()\n",
        "        \n",
        "    def show_confusion_matrix(self, X_test, Y_test):\n",
        "        Y_hat = self.predict(X_test)\n",
        "        cm = np.zeros((10,10))\n",
        "\n",
        "        for y1,y2 in zip(Y_hat,Y_test):\n",
        "          cm[y1,y2] += 1\n",
        "\n",
        "        cm /= np.sum(cm, axis=1, keepdims=True)\n",
        "\n",
        "        matfig = plt.figure(figsize=(10,10))\n",
        "        plt.matshow(cm, cmap=plt.get_cmap('Blues'),fignum=matfig.number)\n",
        "        plt.tick_params(axis=\"x\", bottom=True, top=False, labelbottom=True, labeltop=False)\n",
        "        plt.title(\"confusion_matrix\")\n",
        "        plt.xlabel(\"Y_label\")\n",
        "        plt.ylabel(\"Y_pred\")\n",
        "        plt.xticks(np.arange(10))\n",
        "        plt.yticks(np.arange(10))\n",
        "        plt.colorbar(shrink=0.8)\n",
        "        for (x, y), value in np.ndenumerate(cm):\n",
        "            plt.text(x, y, f\"{value:.2f}\", va=\"center\", ha=\"center\")\n",
        "        plt.plot()"
      ],
      "execution_count": null,
      "outputs": []
    },
    {
      "cell_type": "code",
      "metadata": {
        "id": "Af22uHXD5aDX"
      },
      "source": [
        "def backprop(self, Y):\n",
        "        output_layer = True\n",
        "        for i,layer in enumerate(reversed(self.layers),2):\n",
        "            if output_layer:\n",
        "                dZ = layer.activation_derivative(self.inputs[-1], Y)\n",
        "                output_layer = False\n",
        "            else:\n",
        "                dZ = np.multiply(layer.activation_derivative(), dZ)\n",
        "            dW = np.dot(self.inputs[-i].T, dZ)\n",
        "            db = np.sum(dZ, axis=0, keepdims = True)\n",
        "            dZ = np.dot(dZ, layer.derivative().T)\n",
        "            layer.update(self.learning_rate, dW, db)"
      ],
      "execution_count": null,
      "outputs": []
    },
    {
      "cell_type": "markdown",
      "metadata": {
        "id": "piCoYVLUC5bK"
      },
      "source": [
        "## 3. NN with ReLU"
      ]
    },
    {
      "cell_type": "code",
      "metadata": {
        "id": "pGJ261xqy3H4"
      },
      "source": [
        "# X_t, Y_t, loss, learning_rate, batch_size, epoch\n",
        "nn = NN(X_t, Y_t, Cross_entropy, 1e-3, 64, 100)\n",
        "nn.add(Layer_dense(784,32,ReLU))\n",
        "nn.add(Layer_dense(32,10,ReLU))\n",
        "nn.add(Layer_dense(10,10,Softmax,True))"
      ],
      "execution_count": null,
      "outputs": []
    },
    {
      "cell_type": "code",
      "metadata": {
        "id": "ls3gRJ-fy3H7",
        "colab": {
          "base_uri": "https://localhost:8080/"
        },
        "outputId": "ad5cfb2c-e954-4448-9c9d-c1e0573a5dd1"
      },
      "source": [
        "nn.fit()"
      ],
      "execution_count": null,
      "outputs": [
        {
          "output_type": "stream",
          "text": [
            "[1/100] loss: 2.3039 acc: 11.2852 val_loss: 2.3050 val_acc: 11.5500\n",
            "[2/100] loss: 2.3018 acc: 11.2944 val_loss: 2.3028 val_acc: 11.5667\n",
            "[3/100] loss: 2.3009 acc: 11.3093 val_loss: 2.3021 val_acc: 11.5833\n",
            "[4/100] loss: 2.2999 acc: 11.3333 val_loss: 2.3014 val_acc: 11.6333\n",
            "[5/100] loss: 2.2981 acc: 11.4537 val_loss: 2.3013 val_acc: 11.7000\n",
            "[6/100] loss: 2.2945 acc: 11.6704 val_loss: 2.3015 val_acc: 11.8333\n",
            "[7/100] loss: 2.0360 acc: 21.2574 val_loss: 2.0279 val_acc: 21.6167\n",
            "[8/100] loss: 1.9194 acc: 23.3426 val_loss: 1.8989 val_acc: 24.0167\n",
            "[9/100] loss: 1.8597 acc: 26.2685 val_loss: 1.8349 val_acc: 27.0667\n",
            "[10/100] loss: 1.7690 acc: 29.7852 val_loss: 1.7495 val_acc: 30.2333\n",
            "[11/100] loss: 1.6933 acc: 32.2333 val_loss: 1.6704 val_acc: 32.7500\n",
            "[12/100] loss: 1.6291 acc: 34.5611 val_loss: 1.6113 val_acc: 34.9167\n",
            "[13/100] loss: 1.4928 acc: 40.1037 val_loss: 1.4688 val_acc: 40.6833\n",
            "[14/100] loss: 1.3640 acc: 47.7926 val_loss: 1.3444 val_acc: 48.0833\n",
            "[15/100] loss: 1.2827 acc: 51.3019 val_loss: 1.2686 val_acc: 51.2167\n",
            "[16/100] loss: 1.1715 acc: 55.5148 val_loss: 1.1539 val_acc: 56.3500\n",
            "[17/100] loss: 1.1103 acc: 57.4426 val_loss: 1.0921 val_acc: 58.8500\n",
            "[18/100] loss: 1.0616 acc: 59.9000 val_loss: 1.0464 val_acc: 61.1167\n",
            "[19/100] loss: 1.0199 acc: 62.2370 val_loss: 1.0071 val_acc: 63.1500\n",
            "[20/100] loss: 0.9824 acc: 64.3167 val_loss: 0.9724 val_acc: 65.1167\n",
            "[21/100] loss: 0.9462 acc: 66.4907 val_loss: 0.9378 val_acc: 66.9333\n",
            "[22/100] loss: 0.9130 acc: 68.5370 val_loss: 0.9059 val_acc: 68.7333\n",
            "[23/100] loss: 0.8839 acc: 69.9648 val_loss: 0.8771 val_acc: 69.8000\n",
            "[24/100] loss: 0.8563 acc: 71.6185 val_loss: 0.8498 val_acc: 71.5333\n",
            "[25/100] loss: 0.8325 acc: 72.6704 val_loss: 0.8276 val_acc: 72.6333\n",
            "[26/100] loss: 0.8074 acc: 73.8741 val_loss: 0.8018 val_acc: 73.9667\n",
            "[27/100] loss: 0.7678 acc: 75.8556 val_loss: 0.7620 val_acc: 75.9833\n",
            "[28/100] loss: 0.7307 acc: 76.7574 val_loss: 0.7255 val_acc: 77.4167\n",
            "[29/100] loss: 0.6914 acc: 78.0278 val_loss: 0.6872 val_acc: 78.4000\n",
            "[30/100] loss: 0.6598 acc: 79.1370 val_loss: 0.6556 val_acc: 79.4333\n",
            "[31/100] loss: 0.6338 acc: 80.3259 val_loss: 0.6302 val_acc: 80.8167\n",
            "[32/100] loss: 0.6080 acc: 81.4037 val_loss: 0.6062 val_acc: 81.7833\n",
            "[33/100] loss: 0.5851 acc: 82.2463 val_loss: 0.5865 val_acc: 82.6667\n",
            "[34/100] loss: 0.5649 acc: 82.8574 val_loss: 0.5692 val_acc: 83.3167\n",
            "[35/100] loss: 0.5476 acc: 83.4667 val_loss: 0.5546 val_acc: 83.9000\n",
            "[36/100] loss: 0.5320 acc: 83.9574 val_loss: 0.5413 val_acc: 84.0167\n",
            "[37/100] loss: 0.5192 acc: 84.3667 val_loss: 0.5306 val_acc: 84.5000\n",
            "[38/100] loss: 0.5072 acc: 84.7500 val_loss: 0.5208 val_acc: 84.8667\n",
            "[39/100] loss: 0.4936 acc: 85.2111 val_loss: 0.5095 val_acc: 85.4167\n",
            "[40/100] loss: 0.4783 acc: 85.8315 val_loss: 0.4947 val_acc: 85.7667\n",
            "[41/100] loss: 0.4641 acc: 86.3519 val_loss: 0.4806 val_acc: 86.1667\n",
            "[42/100] loss: 0.4528 acc: 86.6759 val_loss: 0.4688 val_acc: 86.4667\n",
            "[43/100] loss: 0.4438 acc: 86.9704 val_loss: 0.4597 val_acc: 86.8167\n",
            "[44/100] loss: 0.4353 acc: 87.2389 val_loss: 0.4519 val_acc: 87.1000\n",
            "[45/100] loss: 0.4264 acc: 87.5259 val_loss: 0.4438 val_acc: 87.4667\n",
            "[46/100] loss: 0.4187 acc: 87.7759 val_loss: 0.4368 val_acc: 87.5167\n",
            "[47/100] loss: 0.4110 acc: 88.0556 val_loss: 0.4293 val_acc: 87.7500\n",
            "[48/100] loss: 0.4037 acc: 88.2630 val_loss: 0.4227 val_acc: 88.0500\n",
            "[49/100] loss: 0.3965 acc: 88.4796 val_loss: 0.4159 val_acc: 88.3000\n",
            "[50/100] loss: 0.3888 acc: 88.7574 val_loss: 0.4085 val_acc: 88.4833\n",
            "[51/100] loss: 0.3819 acc: 88.9407 val_loss: 0.4020 val_acc: 88.6333\n",
            "[52/100] loss: 0.3752 acc: 89.1593 val_loss: 0.3957 val_acc: 88.7500\n",
            "[53/100] loss: 0.3688 acc: 89.3722 val_loss: 0.3898 val_acc: 88.9167\n",
            "[54/100] loss: 0.3632 acc: 89.5056 val_loss: 0.3847 val_acc: 88.9333\n",
            "[55/100] loss: 0.3579 acc: 89.6815 val_loss: 0.3798 val_acc: 89.1000\n",
            "[56/100] loss: 0.3527 acc: 89.8241 val_loss: 0.3750 val_acc: 89.2333\n",
            "[57/100] loss: 0.3478 acc: 89.9907 val_loss: 0.3704 val_acc: 89.4500\n",
            "[58/100] loss: 0.3429 acc: 90.1259 val_loss: 0.3660 val_acc: 89.6000\n",
            "[59/100] loss: 0.3377 acc: 90.2611 val_loss: 0.3612 val_acc: 89.8167\n",
            "[60/100] loss: 0.3331 acc: 90.4056 val_loss: 0.3574 val_acc: 89.8833\n",
            "[61/100] loss: 0.3287 acc: 90.5426 val_loss: 0.3542 val_acc: 90.0333\n",
            "[62/100] loss: 0.3243 acc: 90.7000 val_loss: 0.3506 val_acc: 90.2167\n",
            "[63/100] loss: 0.3202 acc: 90.8315 val_loss: 0.3471 val_acc: 90.2667\n",
            "[64/100] loss: 0.3161 acc: 90.9519 val_loss: 0.3434 val_acc: 90.4167\n",
            "[65/100] loss: 0.3123 acc: 91.0889 val_loss: 0.3399 val_acc: 90.5667\n",
            "[66/100] loss: 0.3087 acc: 91.1963 val_loss: 0.3365 val_acc: 90.7167\n",
            "[67/100] loss: 0.3056 acc: 91.2963 val_loss: 0.3334 val_acc: 90.7833\n",
            "[68/100] loss: 0.3023 acc: 91.3741 val_loss: 0.3302 val_acc: 90.9833\n",
            "[69/100] loss: 0.2993 acc: 91.4481 val_loss: 0.3271 val_acc: 91.1167\n",
            "[70/100] loss: 0.2964 acc: 91.5130 val_loss: 0.3243 val_acc: 91.1833\n",
            "[71/100] loss: 0.2935 acc: 91.5796 val_loss: 0.3216 val_acc: 91.2833\n",
            "[72/100] loss: 0.2906 acc: 91.6352 val_loss: 0.3189 val_acc: 91.3500\n",
            "[73/100] loss: 0.2880 acc: 91.7037 val_loss: 0.3159 val_acc: 91.4333\n",
            "[74/100] loss: 0.2851 acc: 91.7778 val_loss: 0.3133 val_acc: 91.6167\n",
            "[75/100] loss: 0.2824 acc: 91.8444 val_loss: 0.3105 val_acc: 91.6333\n",
            "[76/100] loss: 0.2801 acc: 91.8870 val_loss: 0.3080 val_acc: 91.6667\n",
            "[77/100] loss: 0.2778 acc: 91.9500 val_loss: 0.3056 val_acc: 91.7167\n",
            "[78/100] loss: 0.2752 acc: 92.0241 val_loss: 0.3028 val_acc: 91.7667\n",
            "[79/100] loss: 0.2727 acc: 92.1148 val_loss: 0.3005 val_acc: 91.8333\n",
            "[80/100] loss: 0.2702 acc: 92.1648 val_loss: 0.2984 val_acc: 91.9500\n",
            "[81/100] loss: 0.2680 acc: 92.2222 val_loss: 0.2965 val_acc: 92.0000\n",
            "[82/100] loss: 0.2657 acc: 92.3130 val_loss: 0.2945 val_acc: 92.0667\n",
            "[83/100] loss: 0.2635 acc: 92.3741 val_loss: 0.2926 val_acc: 92.1333\n",
            "[84/100] loss: 0.2612 acc: 92.4685 val_loss: 0.2907 val_acc: 92.1500\n",
            "[85/100] loss: 0.2592 acc: 92.5167 val_loss: 0.2890 val_acc: 92.1333\n",
            "[86/100] loss: 0.2574 acc: 92.5815 val_loss: 0.2879 val_acc: 92.2333\n",
            "[87/100] loss: 0.2554 acc: 92.6370 val_loss: 0.2861 val_acc: 92.2667\n",
            "[88/100] loss: 0.2535 acc: 92.6741 val_loss: 0.2847 val_acc: 92.3333\n",
            "[89/100] loss: 0.2522 acc: 92.7019 val_loss: 0.2837 val_acc: 92.3167\n",
            "[90/100] loss: 0.2505 acc: 92.7370 val_loss: 0.2823 val_acc: 92.3167\n",
            "[91/100] loss: 0.2489 acc: 92.7907 val_loss: 0.2813 val_acc: 92.4167\n",
            "[92/100] loss: 0.2472 acc: 92.8704 val_loss: 0.2798 val_acc: 92.4667\n",
            "[93/100] loss: 0.2456 acc: 92.9259 val_loss: 0.2787 val_acc: 92.4833\n",
            "[94/100] loss: 0.2439 acc: 92.9407 val_loss: 0.2777 val_acc: 92.4667\n",
            "[95/100] loss: 0.2423 acc: 92.9815 val_loss: 0.2765 val_acc: 92.4833\n",
            "[96/100] loss: 0.2411 acc: 92.9963 val_loss: 0.2758 val_acc: 92.5333\n",
            "[97/100] loss: 0.2395 acc: 93.0481 val_loss: 0.2746 val_acc: 92.5500\n",
            "[98/100] loss: 0.2378 acc: 93.1111 val_loss: 0.2728 val_acc: 92.6500\n",
            "[99/100] loss: 0.2366 acc: 93.1704 val_loss: 0.2720 val_acc: 92.6833\n",
            "[100/100] loss: 0.2350 acc: 93.2148 val_loss: 0.2707 val_acc: 92.6333\n"
          ],
          "name": "stdout"
        }
      ]
    },
    {
      "cell_type": "code",
      "metadata": {
        "id": "0jR1KMiT9xW1",
        "colab": {
          "base_uri": "https://localhost:8080/"
        },
        "outputId": "6530497a-b113-458a-a425-6e6e93fa9211"
      },
      "source": [
        "nn.get_acc(X_r,Y_r)"
      ],
      "execution_count": null,
      "outputs": [
        {
          "output_type": "execute_result",
          "data": {
            "text/plain": [
              "92.53"
            ]
          },
          "metadata": {
            "tags": []
          },
          "execution_count": 12
        }
      ]
    },
    {
      "cell_type": "markdown",
      "metadata": {
        "id": "r8jq0_avEZei"
      },
      "source": [
        "### 3.1 Loss Graph"
      ]
    },
    {
      "cell_type": "code",
      "metadata": {
        "id": "lpEUjqz0s1s9",
        "colab": {
          "base_uri": "https://localhost:8080/",
          "height": 295
        },
        "outputId": "388c85fa-96ea-4c5c-e9b4-80ce5ad047f0"
      },
      "source": [
        "nn.show_loss_graph()"
      ],
      "execution_count": null,
      "outputs": [
        {
          "output_type": "display_data",
          "data": {
            "image/png": "[encoded data removed]",
            "text/plain": [
              "<Figure size 432x288 with 1 Axes>"
            ]
          },
          "metadata": {
            "tags": [],
            "needs_background": "light"
          }
        }
      ]
    },
    {
      "cell_type": "markdown",
      "metadata": {
        "id": "pbrKMXoQEdwr"
      },
      "source": [
        "### 3.2 Top 3 with probability"
      ]
    },
    {
      "cell_type": "code",
      "metadata": {
        "id": "wiGcuuIF6XvM",
        "colab": {
          "base_uri": "https://localhost:8080/",
          "height": 585
        },
        "outputId": "c126f77f-c6c0-4cbd-f256-2e9bcfcab3ca"
      },
      "source": [
        "nn.show_top_3_with_probability(X_r)"
      ],
      "execution_count": null,
      "outputs": [
        {
          "output_type": "display_data",
          "data": {
            "image/png": "[encoded data removed]",
            "text/plain": [
              "<Figure size 576x576 with 30 Axes>"
            ]
          },
          "metadata": {
            "tags": [],
            "needs_background": "light"
          }
        }
      ]
    },
    {
      "cell_type": "markdown",
      "metadata": {
        "id": "O3eEthhcEkIR"
      },
      "source": [
        "### 3.3 Confusion matrix"
      ]
    },
    {
      "cell_type": "code",
      "metadata": {
        "id": "Mb7rlYkzyCd7",
        "colab": {
          "base_uri": "https://localhost:8080/",
          "height": 548
        },
        "outputId": "a12b3124-9084-492f-fe0f-694ce06c4e0f"
      },
      "source": [
        "nn.show_confusion_matrix(X_r, Y_r)"
      ],
      "execution_count": null,
      "outputs": [
        {
          "output_type": "display_data",
          "data": {
            "image/png": "[encoded data removed]",
            "text/plain": [
              "<Figure size 720x720 with 2 Axes>"
            ]
          },
          "metadata": {
            "tags": [],
            "needs_background": "light"
          }
        }
      ]
    },
    {
      "cell_type": "markdown",
      "metadata": {
        "id": "oSvTK6PDEsTE"
      },
      "source": [
        "## 4. NN with LeakyReLU"
      ]
    },
    {
      "cell_type": "code",
      "metadata": {
        "id": "Riv_q1nLEzHF"
      },
      "source": [
        "# X_t, Y_t, loss, learning_rate, batch_size, epoch\n",
        "nn1 = NN(X_t, Y_t, Cross_entropy, 1e-3, 64, 100)\n",
        "nn1.add(Layer_dense(784,32,LeakyReLU))\n",
        "nn1.add(Layer_dense(32,10,LeakyReLU))\n",
        "nn1.add(Layer_dense(10,10,Softmax, True))"
      ],
      "execution_count": null,
      "outputs": []
    },
    {
      "cell_type": "code",
      "metadata": {
        "id": "RCXjeVt-FH0c",
        "colab": {
          "base_uri": "https://localhost:8080/"
        },
        "outputId": "172756cc-f9ce-4ea0-a664-16766571f2ea"
      },
      "source": [
        "nn1.fit()"
      ],
      "execution_count": null,
      "outputs": [
        {
          "output_type": "stream",
          "text": [
            "[1/100] loss: 1.6730 acc: 44.0222 val_loss: 1.6530 val_acc: 44.8000\n",
            "[2/100] loss: 1.2483 acc: 56.4630 val_loss: 1.2174 val_acc: 56.6833\n",
            "[3/100] loss: 1.0102 acc: 65.1074 val_loss: 0.9853 val_acc: 65.5833\n",
            "[4/100] loss: 0.8493 acc: 72.4130 val_loss: 0.8263 val_acc: 72.8500\n",
            "[5/100] loss: 0.7152 acc: 77.7759 val_loss: 0.6918 val_acc: 78.1500\n",
            "[6/100] loss: 0.6307 acc: 80.8278 val_loss: 0.6082 val_acc: 81.3000\n",
            "[7/100] loss: 0.5914 acc: 82.0574 val_loss: 0.5715 val_acc: 82.6667\n",
            "[8/100] loss: 0.5514 acc: 83.3204 val_loss: 0.5329 val_acc: 84.0000\n",
            "[9/100] loss: 0.5238 acc: 84.1815 val_loss: 0.5073 val_acc: 84.7000\n",
            "[10/100] loss: 0.4963 acc: 85.0093 val_loss: 0.4824 val_acc: 85.7333\n",
            "[11/100] loss: 0.4791 acc: 85.4944 val_loss: 0.4666 val_acc: 86.3500\n",
            "[12/100] loss: 0.4671 acc: 85.8074 val_loss: 0.4569 val_acc: 86.9000\n",
            "[13/100] loss: 0.4538 acc: 86.2981 val_loss: 0.4443 val_acc: 87.2333\n",
            "[14/100] loss: 0.4432 acc: 86.6537 val_loss: 0.4355 val_acc: 87.4500\n",
            "[15/100] loss: 0.4349 acc: 86.8519 val_loss: 0.4286 val_acc: 87.6500\n",
            "[16/100] loss: 0.4256 acc: 87.1519 val_loss: 0.4210 val_acc: 87.8333\n",
            "[17/100] loss: 0.4178 acc: 87.3759 val_loss: 0.4140 val_acc: 88.1333\n",
            "[18/100] loss: 0.4096 acc: 87.6222 val_loss: 0.4071 val_acc: 88.3167\n",
            "[19/100] loss: 0.4028 acc: 87.8611 val_loss: 0.4004 val_acc: 88.4167\n",
            "[20/100] loss: 0.3946 acc: 88.1444 val_loss: 0.3936 val_acc: 88.7167\n",
            "[21/100] loss: 0.3888 acc: 88.3537 val_loss: 0.3882 val_acc: 88.9833\n",
            "[22/100] loss: 0.3824 acc: 88.5481 val_loss: 0.3831 val_acc: 89.0833\n",
            "[23/100] loss: 0.3772 acc: 88.7222 val_loss: 0.3787 val_acc: 89.2167\n",
            "[24/100] loss: 0.3723 acc: 88.8704 val_loss: 0.3727 val_acc: 89.3333\n",
            "[25/100] loss: 0.3668 acc: 89.0444 val_loss: 0.3694 val_acc: 89.4000\n",
            "[26/100] loss: 0.3618 acc: 89.2204 val_loss: 0.3652 val_acc: 89.4500\n",
            "[27/100] loss: 0.3576 acc: 89.3630 val_loss: 0.3608 val_acc: 89.6667\n",
            "[28/100] loss: 0.3534 acc: 89.5111 val_loss: 0.3574 val_acc: 89.7167\n",
            "[29/100] loss: 0.3493 acc: 89.6352 val_loss: 0.3519 val_acc: 89.8500\n",
            "[30/100] loss: 0.3455 acc: 89.7426 val_loss: 0.3504 val_acc: 89.9167\n",
            "[31/100] loss: 0.3424 acc: 89.8667 val_loss: 0.3471 val_acc: 89.9167\n",
            "[32/100] loss: 0.3392 acc: 89.9667 val_loss: 0.3442 val_acc: 90.1667\n",
            "[33/100] loss: 0.3357 acc: 90.0407 val_loss: 0.3411 val_acc: 90.2500\n",
            "[34/100] loss: 0.3319 acc: 90.1204 val_loss: 0.3378 val_acc: 90.3667\n",
            "[35/100] loss: 0.3288 acc: 90.2130 val_loss: 0.3348 val_acc: 90.3833\n",
            "[36/100] loss: 0.3252 acc: 90.3704 val_loss: 0.3301 val_acc: 90.4500\n",
            "[37/100] loss: 0.3213 acc: 90.4685 val_loss: 0.3272 val_acc: 90.5833\n",
            "[38/100] loss: 0.3184 acc: 90.5315 val_loss: 0.3249 val_acc: 90.7333\n",
            "[39/100] loss: 0.3154 acc: 90.6759 val_loss: 0.3221 val_acc: 90.9167\n",
            "[40/100] loss: 0.3124 acc: 90.7352 val_loss: 0.3192 val_acc: 90.8833\n",
            "[41/100] loss: 0.3101 acc: 90.8074 val_loss: 0.3173 val_acc: 90.9000\n",
            "[42/100] loss: 0.3076 acc: 90.8685 val_loss: 0.3155 val_acc: 91.0333\n",
            "[43/100] loss: 0.3043 acc: 91.0204 val_loss: 0.3124 val_acc: 91.0833\n",
            "[44/100] loss: 0.3023 acc: 91.0556 val_loss: 0.3084 val_acc: 91.0833\n",
            "[45/100] loss: 0.2972 acc: 91.2389 val_loss: 0.3045 val_acc: 91.3167\n",
            "[46/100] loss: 0.2967 acc: 91.2370 val_loss: 0.3055 val_acc: 91.3500\n",
            "[47/100] loss: 0.2925 acc: 91.3926 val_loss: 0.3017 val_acc: 91.5000\n",
            "[48/100] loss: 0.2903 acc: 91.4907 val_loss: 0.2994 val_acc: 91.5667\n",
            "[49/100] loss: 0.2884 acc: 91.4889 val_loss: 0.2976 val_acc: 91.5500\n",
            "[50/100] loss: 0.2862 acc: 91.5630 val_loss: 0.2954 val_acc: 91.5667\n",
            "[51/100] loss: 0.2839 acc: 91.6185 val_loss: 0.2915 val_acc: 91.7167\n",
            "[52/100] loss: 0.2815 acc: 91.6852 val_loss: 0.2909 val_acc: 91.8333\n",
            "[53/100] loss: 0.2793 acc: 91.7593 val_loss: 0.2896 val_acc: 91.8500\n",
            "[54/100] loss: 0.2771 acc: 91.8537 val_loss: 0.2876 val_acc: 91.9333\n",
            "[55/100] loss: 0.2750 acc: 91.9074 val_loss: 0.2855 val_acc: 91.9833\n",
            "[56/100] loss: 0.2730 acc: 91.9611 val_loss: 0.2836 val_acc: 92.0000\n",
            "[57/100] loss: 0.2716 acc: 92.0204 val_loss: 0.2810 val_acc: 91.9833\n",
            "[58/100] loss: 0.2691 acc: 92.0852 val_loss: 0.2791 val_acc: 92.0167\n",
            "[59/100] loss: 0.2669 acc: 92.1611 val_loss: 0.2783 val_acc: 92.1333\n",
            "[60/100] loss: 0.2650 acc: 92.1926 val_loss: 0.2762 val_acc: 92.1667\n",
            "[61/100] loss: 0.2629 acc: 92.2593 val_loss: 0.2748 val_acc: 92.2833\n",
            "[62/100] loss: 0.2612 acc: 92.3093 val_loss: 0.2733 val_acc: 92.3000\n",
            "[63/100] loss: 0.2590 acc: 92.3556 val_loss: 0.2709 val_acc: 92.4167\n",
            "[64/100] loss: 0.2573 acc: 92.4111 val_loss: 0.2695 val_acc: 92.4333\n",
            "[65/100] loss: 0.2554 acc: 92.4593 val_loss: 0.2677 val_acc: 92.4833\n",
            "[66/100] loss: 0.2540 acc: 92.5093 val_loss: 0.2662 val_acc: 92.5667\n",
            "[67/100] loss: 0.2524 acc: 92.5444 val_loss: 0.2641 val_acc: 92.6500\n",
            "[68/100] loss: 0.2502 acc: 92.5778 val_loss: 0.2622 val_acc: 92.6667\n",
            "[69/100] loss: 0.2485 acc: 92.6704 val_loss: 0.2603 val_acc: 92.7167\n",
            "[70/100] loss: 0.2467 acc: 92.7148 val_loss: 0.2592 val_acc: 92.7500\n",
            "[71/100] loss: 0.2449 acc: 92.7815 val_loss: 0.2575 val_acc: 92.8333\n",
            "[72/100] loss: 0.2432 acc: 92.8315 val_loss: 0.2565 val_acc: 92.8167\n",
            "[73/100] loss: 0.2417 acc: 92.8796 val_loss: 0.2549 val_acc: 92.8667\n",
            "[74/100] loss: 0.2400 acc: 92.9259 val_loss: 0.2534 val_acc: 92.9667\n",
            "[75/100] loss: 0.2384 acc: 92.9889 val_loss: 0.2521 val_acc: 92.9667\n",
            "[76/100] loss: 0.2370 acc: 93.0389 val_loss: 0.2506 val_acc: 93.0000\n",
            "[77/100] loss: 0.2360 acc: 93.0444 val_loss: 0.2500 val_acc: 93.0500\n",
            "[78/100] loss: 0.2338 acc: 93.1333 val_loss: 0.2480 val_acc: 93.0167\n",
            "[79/100] loss: 0.2322 acc: 93.1796 val_loss: 0.2464 val_acc: 93.1000\n",
            "[80/100] loss: 0.2307 acc: 93.2000 val_loss: 0.2451 val_acc: 93.1667\n",
            "[81/100] loss: 0.2292 acc: 93.2593 val_loss: 0.2439 val_acc: 93.1833\n",
            "[82/100] loss: 0.2279 acc: 93.2926 val_loss: 0.2428 val_acc: 93.2333\n",
            "[83/100] loss: 0.2266 acc: 93.3185 val_loss: 0.2417 val_acc: 93.2833\n",
            "[84/100] loss: 0.2252 acc: 93.3685 val_loss: 0.2406 val_acc: 93.2667\n",
            "[85/100] loss: 0.2245 acc: 93.4093 val_loss: 0.2403 val_acc: 93.2500\n",
            "[86/100] loss: 0.2227 acc: 93.4815 val_loss: 0.2385 val_acc: 93.2500\n",
            "[87/100] loss: 0.2214 acc: 93.4944 val_loss: 0.2375 val_acc: 93.2667\n",
            "[88/100] loss: 0.2201 acc: 93.5389 val_loss: 0.2363 val_acc: 93.3500\n",
            "[89/100] loss: 0.2189 acc: 93.5630 val_loss: 0.2353 val_acc: 93.3667\n",
            "[90/100] loss: 0.2178 acc: 93.5704 val_loss: 0.2344 val_acc: 93.4167\n",
            "[91/100] loss: 0.2167 acc: 93.6130 val_loss: 0.2335 val_acc: 93.4333\n",
            "[92/100] loss: 0.2154 acc: 93.6611 val_loss: 0.2325 val_acc: 93.4000\n",
            "[93/100] loss: 0.2143 acc: 93.6796 val_loss: 0.2316 val_acc: 93.4500\n",
            "[94/100] loss: 0.2129 acc: 93.7241 val_loss: 0.2305 val_acc: 93.4667\n",
            "[95/100] loss: 0.2117 acc: 93.7648 val_loss: 0.2295 val_acc: 93.4667\n",
            "[96/100] loss: 0.2106 acc: 93.7796 val_loss: 0.2286 val_acc: 93.4667\n",
            "[97/100] loss: 0.2095 acc: 93.8241 val_loss: 0.2278 val_acc: 93.5167\n",
            "[98/100] loss: 0.2085 acc: 93.8500 val_loss: 0.2269 val_acc: 93.5000\n",
            "[99/100] loss: 0.2075 acc: 93.8759 val_loss: 0.2263 val_acc: 93.5667\n",
            "[100/100] loss: 0.2065 acc: 93.9148 val_loss: 0.2255 val_acc: 93.6000\n"
          ],
          "name": "stdout"
        }
      ]
    },
    {
      "cell_type": "code",
      "metadata": {
        "id": "rl1HEWfRFLie"
      },
      "source": [
        "nn1.get_acc(X_r,Y_r)"
      ],
      "execution_count": null,
      "outputs": []
    },
    {
      "cell_type": "markdown",
      "metadata": {
        "id": "X92IARNIFMkL"
      },
      "source": [
        "### 4.1 Loss graph"
      ]
    },
    {
      "cell_type": "code",
      "metadata": {
        "id": "3YHldS0TFRMZ"
      },
      "source": [
        "nn1.show_loss_graph()"
      ],
      "execution_count": null,
      "outputs": []
    },
    {
      "cell_type": "markdown",
      "metadata": {
        "id": "f2CPjTVwFRTb"
      },
      "source": [
        "### 4.2 Top 3 with probability"
      ]
    },
    {
      "cell_type": "code",
      "metadata": {
        "id": "2f8Fn40iFRc4"
      },
      "source": [
        "nn1.show_top_3_with_probability(X_r)"
      ],
      "execution_count": null,
      "outputs": []
    },
    {
      "cell_type": "markdown",
      "metadata": {
        "id": "QGJULCQXFRjW"
      },
      "source": [
        "### 4.3 Confusion matrix"
      ]
    },
    {
      "cell_type": "code",
      "metadata": {
        "id": "5s0oORrFFRs0"
      },
      "source": [
        "nn1.show_confusion_matrix(X_r,Y_r)"
      ],
      "execution_count": null,
      "outputs": []
    },
    {
      "cell_type": "markdown",
      "metadata": {
        "id": "33KaGctCy3H-"
      },
      "source": [
        "## 5. Discussion"
      ]
    },
    {
      "cell_type": "markdown",
      "metadata": {
        "id": "KYZUMx4v35TO"
      },
      "source": [
        "### 5.1 Experiment environment\n",
        "\n",
        "Both Neural Network(a.k.a NN) using ReLU and another one using LeakyReLU were trained on exactly same environment except hyperparameter of LeakyReLU.\n",
        "\n",
        "#### 5.1.1 Parameters\n",
        "\n",
        "| Parameters                                      | Values  |\n",
        "| ----------------------------------------------- | ------- |\n",
        "| learning rate                                   | 1e-3    |\n",
        "| batch size                                      | 64      |\n",
        "| epochs                                          | 100     |\n",
        "| ratio between a training set and validation set | 0.9/0.1 |\n",
        "| hyperparameter of LeakyReLU                     | 0.01    |\n",
        "\n",
        "#### 5.1.2 NN model structure\n",
        "\n",
        "| Name (input, output) |\n",
        "| :------------------: |\n",
        "|   Input (-1, 784)    |\n",
        "|  Layer_1 (784, 32)   |\n",
        "|   Layer_2 (32, 10)   |\n",
        "|   Softmax (10, 10)   |\n"
      ]
    },
    {
      "cell_type": "markdown",
      "metadata": {
        "id": "AU18BmksuyoB"
      },
      "source": [
        "### 5.2 Comparison\n",
        "\n",
        "|             | ReLU  | LeakyReLU |\n",
        "| ----------- | :---- | :-------- |\n",
        "| Accuracy(%) | 92.53 | 93.7      |\n",
        "\n",
        "The above table shows that the NN using LeakyReLU has more higher accuracy.\n",
        "\n",
        "In the case of LeakyReLU at the beginning of learning, since it has a slope even for negative inputs, so learning started quickly. On the other hand, in the model using ReLU, it can be seen through loss_graph that learning started relatively slowly at the beginning."
      ]
    },
    {
      "cell_type": "code",
      "metadata": {
        "id": "-Ci8yzAb3xrx"
      },
      "source": [
        ""
      ],
      "execution_count": null,
      "outputs": []
    }
  ]
}